{
 "cells": [
  {
   "cell_type": "code",
   "execution_count": 1,
   "metadata": {},
   "outputs": [
    {
     "name": "stdout",
     "output_type": "stream",
     "text": [
      "输入：28\n",
      "是偶数，析出偶数因数后为：14.0，这是第1步\n",
      "是偶数，析出偶数因数后为：7.0，这是第2步\n",
      "是奇数，乘以3再加1后为：22.0，这是第3步\n",
      "是偶数，析出偶数因数后为：11.0，这是第4步\n",
      "是奇数，乘以3再加1后为：34.0，这是第5步\n",
      "是偶数，析出偶数因数后为：17.0，这是第6步\n",
      "是奇数，乘以3再加1后为：52.0，这是第7步\n",
      "是偶数，析出偶数因数后为：26.0，这是第8步\n",
      "是偶数，析出偶数因数后为：13.0，这是第9步\n",
      "是奇数，乘以3再加1后为：40.0，这是第10步\n",
      "是偶数，析出偶数因数后为：20.0，这是第11步\n",
      "是偶数，析出偶数因数后为：10.0，这是第12步\n",
      "是偶数，析出偶数因数后为：5.0，这是第13步\n",
      "是奇数，乘以3再加1后为：16.0，这是第14步\n",
      "是偶数，析出偶数因数后为：8.0，这是第15步\n",
      "是偶数，析出偶数因数后为：4.0，这是第16步\n",
      "是偶数，析出偶数因数后为：2.0，这是第17步\n",
      "是偶数，析出偶数因数后为：1.0，这是第18步\n",
      "共计操作步骤为：18步\n"
     ]
    }
   ],
   "source": [
    "import random\n",
    "\n",
    "i = 0\n",
    "#number = random.randint(1, 99)\n",
    "number = int(input('输入：'))\n",
    "while number != 1:\n",
    "    if (number % 2 == 0):\n",
    "        number /= 2\n",
    "        print('是偶数，析出偶数因数后为：'+str(number)+'，这是第'+str(i+1)+'步')\n",
    "    else:\n",
    "        number = 3 * number + 1\n",
    "        print('是奇数，乘以3再加1后为：'+str(number)+'，这是第'+str(i+1)+'步')\n",
    "    i += 1\n",
    "print('共计操作步骤为：' + str(i) + '步')"
   ]
  },
  {
   "cell_type": "code",
   "execution_count": null,
   "metadata": {},
   "outputs": [],
   "source": []
  }
 ],
 "metadata": {
  "kernelspec": {
   "display_name": "Python 3",
   "language": "python",
   "name": "python3"
  },
  "language_info": {
   "codemirror_mode": {
    "name": "ipython",
    "version": 3
   },
   "file_extension": ".py",
   "mimetype": "text/x-python",
   "name": "python",
   "nbconvert_exporter": "python",
   "pygments_lexer": "ipython3",
   "version": "3.7.3"
  }
 },
 "nbformat": 4,
 "nbformat_minor": 2
}
