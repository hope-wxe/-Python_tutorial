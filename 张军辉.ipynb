{
 "cells": [
  {
   "cell_type": "code",
   "execution_count": null,
   "metadata": {},
   "outputs": [
    {
     "name": "stdout",
     "output_type": "stream",
     "text": [
      "13-18=\n",
      "请输入答案：-5\n",
      "恭喜您回答正确，当前分数为：10\n"
     ]
    }
   ],
   "source": [
    "import random\n",
    "import operator\n",
    "\n",
    "i = 1\n",
    "grade = 0\n",
    "while i <= 10:\n",
    "    a = random.randint(0, 20)\n",
    "    symbol = '+-*/'\n",
    "    # 随机运算符\n",
    "    sym = random.choice(symbol)\n",
    "    b = random.randint(1, 20)\n",
    "    shizi = str(a) + sym + str(b)\n",
    "    print(shizi + \"=\")\n",
    "    # eval函数，执行一个字符串表达式，并返回表达式的值\n",
    "    c = eval(shizi)\n",
    "    user = int(input('请输入答案：'))\n",
    "    if (user == c):\n",
    "        grade += 10\n",
    "        # 加个条件\n",
    "        if (i == 10):\n",
    "            print('答题结束！最终分数为：' + str(grade))\n",
    "            break\n",
    "        print('恭喜您回答正确，当前分数为：' + str(grade))\n",
    "        con = input('您已答了' + str(i) + '道题，' + '是否继续答题（y/n）')\n",
    "        if (con == 'y'):\n",
    "            i += 1\n",
    "        else:\n",
    "            print('回答结束，共计答题：' + str(i) + '道，分数为：' + str(grade))\n",
    "            i = 11\n",
    "    else:\n",
    "        print('很遗憾您回答错误，当前分数为：' + str(grade))\n",
    "        con = input('您已答了' + str(i) + '道题，' + '是否继续答题（y/n）')\n",
    "        if (con == 'y'):\n",
    "            i += 1\n",
    "        else:\n",
    "            print('回答结束，共计答题：' + str(i) + '道')\n",
    "            i = 11\n",
    "print('当前分数为：' + str(grade))"
   ]
  },
  {
   "cell_type": "code",
   "execution_count": 1,
   "metadata": {},
   "outputs": [
    {
     "name": "stdout",
     "output_type": "stream",
     "text": [
      "以下输出2016年1月份的日历:\n",
      "    January 2016\n",
      "Mo Tu We Th Fr Sa Su\n",
      "             1  2  3\n",
      " 4  5  6  7  8  9 10\n",
      "11 12 13 14 15 16 17\n",
      "18 19 20 21 22 23 24\n",
      "25 26 27 28 29 30 31\n",
      "\n"
     ]
    }
   ],
   "source": [
    "\n",
    "#!/usr/bin/python3\n",
    "\n",
    "import calendar\n",
    "\n",
    "cal = calendar.month(2016, 1)\n",
    "print (\"以下输出2016年1月份的日历:\")\n",
    "print (cal)\n",
    "\n",
    "\n",
    "\n",
    "\n",
    "\n",
    "\n",
    "\n",
    "\n",
    "\n",
    "\n"
   ]
  },
  {
   "cell_type": "code",
   "execution_count": null,
   "metadata": {},
   "outputs": [],
   "source": []
  }
 ],
 "metadata": {
  "kernelspec": {
   "display_name": "Python 3",
   "language": "python",
   "name": "python3"
  },
  "language_info": {
   "codemirror_mode": {
    "name": "ipython",
    "version": 3
   },
   "file_extension": ".py",
   "mimetype": "text/x-python",
   "name": "python",
   "nbconvert_exporter": "python",
   "pygments_lexer": "ipython3",
   "version": "3.7.3"
  }
 },
 "nbformat": 4,
 "nbformat_minor": 2
}
