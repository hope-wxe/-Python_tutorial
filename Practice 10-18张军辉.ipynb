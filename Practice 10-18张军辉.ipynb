{
 "cells": [
  {
   "cell_type": "code",
   "execution_count": 1,
   "metadata": {},
   "outputs": [
    {
     "name": "stdout",
     "output_type": "stream",
     "text": [
      "var1[0]:  H\n",
      "var2[1:5]:  unoo\n"
     ]
    }
   ],
   "source": [
    "#!/usr/bin/python3\n",
    " \n",
    "var1 = 'Hello World!'\n",
    "var2 = \"Runoob\"\n",
    " \n",
    "print (\"var1[0]: \", var1[0])\n",
    "print (\"var2[1:5]: \", var2[1:5])"
   ]
  },
  {
   "cell_type": "code",
   "execution_count": 2,
   "metadata": {},
   "outputs": [
    {
     "name": "stdout",
     "output_type": "stream",
     "text": [
      "已更新字符串 :  Hello Runoob!\n"
     ]
    }
   ],
   "source": [
    "#!/usr/bin/python3\n",
    " \n",
    "var1 = 'Hello World!'\n",
    " \n",
    "print (\"已更新字符串 : \", var1[:6] + 'Runoob!')"
   ]
  },
  {
   "cell_type": "code",
   "execution_count": 3,
   "metadata": {},
   "outputs": [
    {
     "name": "stdout",
     "output_type": "stream",
     "text": [
      "a + b 输出结果： HelloPython\n",
      "a * 2 输出结果： HelloHello\n",
      "a[1] 输出结果： e\n",
      "a[1:4] 输出结果： ell\n",
      "H 在变量 a 中\n",
      "M 不在变量 a 中\n",
      "\\n\n",
      "\\n\n"
     ]
    }
   ],
   "source": [
    "#!/usr/bin/python3\n",
    " \n",
    "a = \"Hello\"\n",
    "b = \"Python\"\n",
    " \n",
    "print(\"a + b 输出结果：\", a + b)\n",
    "print(\"a * 2 输出结果：\", a * 2)\n",
    "print(\"a[1] 输出结果：\", a[1])\n",
    "print(\"a[1:4] 输出结果：\", a[1:4])\n",
    " \n",
    "if( \"H\" in a) :\n",
    "    print(\"H 在变量 a 中\")\n",
    "else :\n",
    "    print(\"H 不在变量 a 中\")\n",
    " \n",
    "if( \"M\" not in a) :\n",
    "    print(\"M 不在变量 a 中\")\n",
    "else :\n",
    "    print(\"M 在变量 a 中\")\n",
    " \n",
    "print (r'\\n')\n",
    "print (R'\\n')"
   ]
  },
  {
   "cell_type": "code",
   "execution_count": 4,
   "metadata": {},
   "outputs": [
    {
     "name": "stdout",
     "output_type": "stream",
     "text": [
      "我叫 小明 今年 10 岁!\n"
     ]
    }
   ],
   "source": [
    "#!/usr/bin/python3\n",
    " \n",
    "print (\"我叫 %s 今年 %d 岁!\" % ('小明', 10))"
   ]
  },
  {
   "cell_type": "code",
   "execution_count": 5,
   "metadata": {},
   "outputs": [
    {
     "name": "stdout",
     "output_type": "stream",
     "text": [
      "这是一个多行字符串的实例\n",
      "多行字符串可以使用制表符\n",
      "TAB ( \t )。\n",
      "也可以使用换行符 [ \n",
      " ]。\n",
      "\n"
     ]
    }
   ],
   "source": [
    "#!/usr/bin/python3\n",
    " \n",
    "para_str = \"\"\"这是一个多行字符串的实例\n",
    "多行字符串可以使用制表符\n",
    "TAB ( \\t )。\n",
    "也可以使用换行符 [ \\n ]。\n",
    "\"\"\"\n",
    "print (para_str)"
   ]
  },
  {
   "cell_type": "code",
   "execution_count": 6,
   "metadata": {},
   "outputs": [
    {
     "name": "stdout",
     "output_type": "stream",
     "text": [
      "list1[0]:  Google\n",
      "list2[1:5]:  [2, 3, 4, 5]\n"
     ]
    }
   ],
   "source": [
    "#!/usr/bin/python3\n",
    " \n",
    "list1 = ['Google', 'Runoob', 1997, 2000];\n",
    "list2 = [1, 2, 3, 4, 5, 6, 7 ];\n",
    " \n",
    "print (\"list1[0]: \", list1[0])\n",
    "print (\"list2[1:5]: \", list2[1:5])"
   ]
  },
  {
   "cell_type": "code",
   "execution_count": 7,
   "metadata": {},
   "outputs": [
    {
     "name": "stdout",
     "output_type": "stream",
     "text": [
      "第三个元素为 :  1997\n",
      "更新后的第三个元素为 :  2001\n"
     ]
    }
   ],
   "source": [
    "#!/usr/bin/python3\n",
    " \n",
    "list = ['Google', 'Runoob', 1997, 2000]\n",
    " \n",
    "print (\"第三个元素为 : \", list[2])\n",
    "list[2] = 2001\n",
    "print (\"更新后的第三个元素为 : \", list[2])"
   ]
  },
  {
   "cell_type": "code",
   "execution_count": 8,
   "metadata": {},
   "outputs": [
    {
     "name": "stdout",
     "output_type": "stream",
     "text": [
      "原始列表 :  ['Google', 'Runoob', 1997, 2000]\n",
      "删除第三个元素 :  ['Google', 'Runoob', 2000]\n"
     ]
    }
   ],
   "source": [
    "#!/usr/bin/python3\n",
    " \n",
    "list = ['Google', 'Runoob', 1997, 2000]\n",
    " \n",
    "print (\"原始列表 : \", list)\n",
    "del list[2]\n",
    "print (\"删除第三个元素 : \", list)"
   ]
  },
  {
   "cell_type": "code",
   "execution_count": 9,
   "metadata": {},
   "outputs": [
    {
     "ename": "SyntaxError",
     "evalue": "invalid syntax (<ipython-input-9-55fd1ea8903b>, line 1)",
     "output_type": "error",
     "traceback": [
      "\u001b[1;36m  File \u001b[1;32m\"<ipython-input-9-55fd1ea8903b>\"\u001b[1;36m, line \u001b[1;32m1\u001b[0m\n\u001b[1;33m    >>>tup1 = ('Google', 'Runoob', 1997, 2000);\u001b[0m\n\u001b[1;37m     ^\u001b[0m\n\u001b[1;31mSyntaxError\u001b[0m\u001b[1;31m:\u001b[0m invalid syntax\n"
     ]
    }
   ],
   "source": [
    ">>>tup1 = ('Google', 'Runoob', 1997, 2000);\n",
    ">>> tup2 = (1, 2, 3, 4, 5 );\n",
    ">>> tup3 = \"a\", \"b\", \"c\", \"d\";   #  不需要括号也可以\n",
    ">>> type(tup3)\n",
    "<class 'tuple'>"
   ]
  },
  {
   "cell_type": "code",
   "execution_count": 10,
   "metadata": {},
   "outputs": [
    {
     "ename": "SyntaxError",
     "evalue": "invalid syntax (<ipython-input-10-c4170df9d6b8>, line 1)",
     "output_type": "error",
     "traceback": [
      "\u001b[1;36m  File \u001b[1;32m\"<ipython-input-10-c4170df9d6b8>\"\u001b[1;36m, line \u001b[1;32m1\u001b[0m\n\u001b[1;33m    >>>tup1 = (50)\u001b[0m\n\u001b[1;37m     ^\u001b[0m\n\u001b[1;31mSyntaxError\u001b[0m\u001b[1;31m:\u001b[0m invalid syntax\n"
     ]
    }
   ],
   "source": [
    ">>>tup1 = (50)\n",
    ">>> type(tup1)     # 不加逗号，类型为整型\n",
    "<class 'int'>\n",
    " \n",
    ">>> tup1 = (50,)\n",
    ">>> type(tup1)     # 加上逗号，类型为元组\n",
    "<class 'tuple'>"
   ]
  },
  {
   "cell_type": "code",
   "execution_count": 11,
   "metadata": {},
   "outputs": [
    {
     "name": "stdout",
     "output_type": "stream",
     "text": [
      "tup1[0]:  Google\n",
      "tup2[1:5]:  (2, 3, 4, 5)\n"
     ]
    }
   ],
   "source": [
    "#!/usr/bin/python3\n",
    " \n",
    "tup1 = ('Google', 'Runoob', 1997, 2000)\n",
    "tup2 = (1, 2, 3, 4, 5, 6, 7 )\n",
    " \n",
    "print (\"tup1[0]: \", tup1[0])\n",
    "print (\"tup2[1:5]: \", tup2[1:5])"
   ]
  },
  {
   "cell_type": "code",
   "execution_count": 12,
   "metadata": {},
   "outputs": [
    {
     "name": "stdout",
     "output_type": "stream",
     "text": [
      "(12, 34.56, 'abc', 'xyz')\n"
     ]
    }
   ],
   "source": [
    "#!/usr/bin/python3\n",
    " \n",
    "tup1 = (12, 34.56);\n",
    "tup2 = ('abc', 'xyz')\n",
    " \n",
    "# 以下修改元组元素操作是非法的。\n",
    "# tup1[0] = 100\n",
    " \n",
    "# 创建一个新的元组\n",
    "tup3 = tup1 + tup2;\n",
    "print (tup3)"
   ]
  },
  {
   "cell_type": "code",
   "execution_count": 13,
   "metadata": {},
   "outputs": [
    {
     "name": "stdout",
     "output_type": "stream",
     "text": [
      "('Google', 'Runoob', 1997, 2000)\n",
      "删除后的元组 tup : \n"
     ]
    },
    {
     "ename": "NameError",
     "evalue": "name 'tup' is not defined",
     "output_type": "error",
     "traceback": [
      "\u001b[1;31m---------------------------------------------------------------------------\u001b[0m",
      "\u001b[1;31mNameError\u001b[0m                                 Traceback (most recent call last)",
      "\u001b[1;32m<ipython-input-13-49fef944b839>\u001b[0m in \u001b[0;36m<module>\u001b[1;34m\u001b[0m\n\u001b[0;32m      6\u001b[0m \u001b[1;32mdel\u001b[0m \u001b[0mtup\u001b[0m\u001b[1;33m;\u001b[0m\u001b[1;33m\u001b[0m\u001b[1;33m\u001b[0m\u001b[0m\n\u001b[0;32m      7\u001b[0m \u001b[0mprint\u001b[0m \u001b[1;33m(\u001b[0m\u001b[1;34m\"删除后的元组 tup : \"\u001b[0m\u001b[1;33m)\u001b[0m\u001b[1;33m\u001b[0m\u001b[1;33m\u001b[0m\u001b[0m\n\u001b[1;32m----> 8\u001b[1;33m \u001b[0mprint\u001b[0m \u001b[1;33m(\u001b[0m\u001b[0mtup\u001b[0m\u001b[1;33m)\u001b[0m\u001b[1;33m\u001b[0m\u001b[1;33m\u001b[0m\u001b[0m\n\u001b[0m",
      "\u001b[1;31mNameError\u001b[0m: name 'tup' is not defined"
     ]
    }
   ],
   "source": [
    "#!/usr/bin/python3\n",
    " \n",
    "tup = ('Google', 'Runoob', 1997, 2000)\n",
    " \n",
    "print (tup)\n",
    "del tup;\n",
    "print (\"删除后的元组 tup : \")\n",
    "print (tup)"
   ]
  },
  {
   "cell_type": "code",
   "execution_count": 14,
   "metadata": {},
   "outputs": [
    {
     "name": "stdout",
     "output_type": "stream",
     "text": [
      "dict['Name']:  Runoob\n",
      "dict['Age']:  7\n"
     ]
    }
   ],
   "source": [
    "#!/usr/bin/python3\n",
    " \n",
    "dict = {'Name': 'Runoob', 'Age': 7, 'Class': 'First'}\n",
    " \n",
    "print (\"dict['Name']: \", dict['Name'])\n",
    "print (\"dict['Age']: \", dict['Age'])"
   ]
  },
  {
   "cell_type": "code",
   "execution_count": 15,
   "metadata": {},
   "outputs": [
    {
     "ename": "KeyError",
     "evalue": "'Alice'",
     "output_type": "error",
     "traceback": [
      "\u001b[1;31m---------------------------------------------------------------------------\u001b[0m",
      "\u001b[1;31mKeyError\u001b[0m                                  Traceback (most recent call last)",
      "\u001b[1;32m<ipython-input-15-db832c6fa0ec>\u001b[0m in \u001b[0;36m<module>\u001b[1;34m\u001b[0m\n\u001b[0;32m      3\u001b[0m \u001b[0mdict\u001b[0m \u001b[1;33m=\u001b[0m \u001b[1;33m{\u001b[0m\u001b[1;34m'Name'\u001b[0m\u001b[1;33m:\u001b[0m \u001b[1;34m'Runoob'\u001b[0m\u001b[1;33m,\u001b[0m \u001b[1;34m'Age'\u001b[0m\u001b[1;33m:\u001b[0m \u001b[1;36m7\u001b[0m\u001b[1;33m,\u001b[0m \u001b[1;34m'Class'\u001b[0m\u001b[1;33m:\u001b[0m \u001b[1;34m'First'\u001b[0m\u001b[1;33m}\u001b[0m\u001b[1;33m\u001b[0m\u001b[1;33m\u001b[0m\u001b[0m\n\u001b[0;32m      4\u001b[0m \u001b[1;33m\u001b[0m\u001b[0m\n\u001b[1;32m----> 5\u001b[1;33m \u001b[0mprint\u001b[0m \u001b[1;33m(\u001b[0m\u001b[1;34m\"dict['Alice']: \"\u001b[0m\u001b[1;33m,\u001b[0m \u001b[0mdict\u001b[0m\u001b[1;33m[\u001b[0m\u001b[1;34m'Alice'\u001b[0m\u001b[1;33m]\u001b[0m\u001b[1;33m)\u001b[0m\u001b[1;33m\u001b[0m\u001b[1;33m\u001b[0m\u001b[0m\n\u001b[0m",
      "\u001b[1;31mKeyError\u001b[0m: 'Alice'"
     ]
    }
   ],
   "source": [
    "#!/usr/bin/python3\n",
    " \n",
    "dict = {'Name': 'Runoob', 'Age': 7, 'Class': 'First'}\n",
    " \n",
    "print (\"dict['Alice']: \", dict['Alice'])"
   ]
  },
  {
   "cell_type": "code",
   "execution_count": 16,
   "metadata": {},
   "outputs": [
    {
     "name": "stdout",
     "output_type": "stream",
     "text": [
      "dict['Age']:  8\n",
      "dict['School']:  菜鸟教程\n"
     ]
    }
   ],
   "source": [
    "#!/usr/bin/python3\n",
    " \n",
    "dict = {'Name': 'Runoob', 'Age': 7, 'Class': 'First'}\n",
    " \n",
    "dict['Age'] = 8               # 更新 Age\n",
    "dict['School'] = \"菜鸟教程\"  # 添加信息\n",
    " \n",
    " \n",
    "print (\"dict['Age']: \", dict['Age'])\n",
    "print (\"dict['School']: \", dict['School'])"
   ]
  },
  {
   "cell_type": "code",
   "execution_count": 17,
   "metadata": {},
   "outputs": [
    {
     "ename": "TypeError",
     "evalue": "'type' object is not subscriptable",
     "output_type": "error",
     "traceback": [
      "\u001b[1;31m---------------------------------------------------------------------------\u001b[0m",
      "\u001b[1;31mTypeError\u001b[0m                                 Traceback (most recent call last)",
      "\u001b[1;32m<ipython-input-17-f24e64f702a1>\u001b[0m in \u001b[0;36m<module>\u001b[1;34m\u001b[0m\n\u001b[0;32m      7\u001b[0m \u001b[1;32mdel\u001b[0m \u001b[0mdict\u001b[0m         \u001b[1;31m# 删除字典\u001b[0m\u001b[1;33m\u001b[0m\u001b[1;33m\u001b[0m\u001b[0m\n\u001b[0;32m      8\u001b[0m \u001b[1;33m\u001b[0m\u001b[0m\n\u001b[1;32m----> 9\u001b[1;33m \u001b[0mprint\u001b[0m \u001b[1;33m(\u001b[0m\u001b[1;34m\"dict['Age']: \"\u001b[0m\u001b[1;33m,\u001b[0m \u001b[0mdict\u001b[0m\u001b[1;33m[\u001b[0m\u001b[1;34m'Age'\u001b[0m\u001b[1;33m]\u001b[0m\u001b[1;33m)\u001b[0m\u001b[1;33m\u001b[0m\u001b[1;33m\u001b[0m\u001b[0m\n\u001b[0m\u001b[0;32m     10\u001b[0m \u001b[0mprint\u001b[0m \u001b[1;33m(\u001b[0m\u001b[1;34m\"dict['School']: \"\u001b[0m\u001b[1;33m,\u001b[0m \u001b[0mdict\u001b[0m\u001b[1;33m[\u001b[0m\u001b[1;34m'School'\u001b[0m\u001b[1;33m]\u001b[0m\u001b[1;33m)\u001b[0m\u001b[1;33m\u001b[0m\u001b[1;33m\u001b[0m\u001b[0m\n",
      "\u001b[1;31mTypeError\u001b[0m: 'type' object is not subscriptable"
     ]
    }
   ],
   "source": [
    "#!/usr/bin/python3\n",
    " \n",
    "dict = {'Name': 'Runoob', 'Age': 7, 'Class': 'First'}\n",
    " \n",
    "del dict['Name'] # 删除键 'Name'\n",
    "dict.clear()     # 清空字典\n",
    "del dict         # 删除字典\n",
    " \n",
    "print (\"dict['Age']: \", dict['Age'])\n",
    "print (\"dict['School']: \", dict['School'])"
   ]
  },
  {
   "cell_type": "code",
   "execution_count": 18,
   "metadata": {},
   "outputs": [
    {
     "name": "stdout",
     "output_type": "stream",
     "text": [
      "dict['Name']:  小菜鸟\n"
     ]
    }
   ],
   "source": [
    "#!/usr/bin/python3\n",
    " \n",
    "dict = {'Name': 'Runoob', 'Age': 7, 'Name': '小菜鸟'}\n",
    " \n",
    "print (\"dict['Name']: \", dict['Name'])"
   ]
  },
  {
   "cell_type": "code",
   "execution_count": 19,
   "metadata": {},
   "outputs": [
    {
     "ename": "TypeError",
     "evalue": "unhashable type: 'list'",
     "output_type": "error",
     "traceback": [
      "\u001b[1;31m---------------------------------------------------------------------------\u001b[0m",
      "\u001b[1;31mTypeError\u001b[0m                                 Traceback (most recent call last)",
      "\u001b[1;32m<ipython-input-19-e80cd90d496d>\u001b[0m in \u001b[0;36m<module>\u001b[1;34m\u001b[0m\n\u001b[0;32m      1\u001b[0m \u001b[1;31m#!/usr/bin/python3\u001b[0m\u001b[1;33m\u001b[0m\u001b[1;33m\u001b[0m\u001b[1;33m\u001b[0m\u001b[0m\n\u001b[0;32m      2\u001b[0m \u001b[1;33m\u001b[0m\u001b[0m\n\u001b[1;32m----> 3\u001b[1;33m \u001b[0mdict\u001b[0m \u001b[1;33m=\u001b[0m \u001b[1;33m{\u001b[0m\u001b[1;33m[\u001b[0m\u001b[1;34m'Name'\u001b[0m\u001b[1;33m]\u001b[0m\u001b[1;33m:\u001b[0m \u001b[1;34m'Runoob'\u001b[0m\u001b[1;33m,\u001b[0m \u001b[1;34m'Age'\u001b[0m\u001b[1;33m:\u001b[0m \u001b[1;36m7\u001b[0m\u001b[1;33m}\u001b[0m\u001b[1;33m\u001b[0m\u001b[1;33m\u001b[0m\u001b[0m\n\u001b[0m\u001b[0;32m      4\u001b[0m \u001b[1;33m\u001b[0m\u001b[0m\n\u001b[0;32m      5\u001b[0m \u001b[0mprint\u001b[0m \u001b[1;33m(\u001b[0m\u001b[1;34m\"dict['Name']: \"\u001b[0m\u001b[1;33m,\u001b[0m \u001b[0mdict\u001b[0m\u001b[1;33m[\u001b[0m\u001b[1;34m'Name'\u001b[0m\u001b[1;33m]\u001b[0m\u001b[1;33m)\u001b[0m\u001b[1;33m\u001b[0m\u001b[1;33m\u001b[0m\u001b[0m\n",
      "\u001b[1;31mTypeError\u001b[0m: unhashable type: 'list'"
     ]
    }
   ],
   "source": [
    "#!/usr/bin/python3\n",
    " \n",
    "dict = {['Name']: 'Runoob', 'Age': 7}\n",
    " \n",
    "print (\"dict['Name']: \", dict['Name'])"
   ]
  },
  {
   "cell_type": "code",
   "execution_count": 20,
   "metadata": {},
   "outputs": [
    {
     "ename": "SyntaxError",
     "evalue": "invalid syntax (<ipython-input-20-f8f9d34a9677>, line 1)",
     "output_type": "error",
     "traceback": [
      "\u001b[1;36m  File \u001b[1;32m\"<ipython-input-20-f8f9d34a9677>\"\u001b[1;36m, line \u001b[1;32m1\u001b[0m\n\u001b[1;33m    >>>basket = {'apple', 'orange', 'apple', 'pear', 'orange', 'banana'}\u001b[0m\n\u001b[1;37m     ^\u001b[0m\n\u001b[1;31mSyntaxError\u001b[0m\u001b[1;31m:\u001b[0m invalid syntax\n"
     ]
    }
   ],
   "source": [
    ">>>basket = {'apple', 'orange', 'apple', 'pear', 'orange', 'banana'}\n",
    ">>> print(basket)                      # 这里演示的是去重功能\n",
    "{'orange', 'banana', 'pear', 'apple'}\n",
    ">>> 'orange' in basket                 # 快速判断元素是否在集合内\n",
    "True\n",
    ">>> 'crabgrass' in basket\n",
    "False\n",
    " \n",
    ">>> # 下面展示两个集合间的运算.\n",
    "...\n",
    ">>> a = set('abracadabra')\n",
    ">>> b = set('alacazam')\n",
    ">>> a                                  \n",
    "{'a', 'r', 'b', 'c', 'd'}\n",
    ">>> a - b                              # 集合a中包含而集合b中不包含的元素\n",
    "{'r', 'd', 'b'}\n",
    ">>> a | b                              # 集合a或b中包含的所有元素\n",
    "{'a', 'c', 'r', 'd', 'b', 'm', 'z', 'l'}\n",
    ">>> a & b                              # 集合a和b中都包含了的元素\n",
    "{'a', 'c'}\n",
    ">>> a ^ b                              # 不同时包含于a和b的元素\n",
    "{'r', 'd', 'b', 'm', 'z', 'l'}"
   ]
  },
  {
   "cell_type": "code",
   "execution_count": 21,
   "metadata": {},
   "outputs": [
    {
     "ename": "SyntaxError",
     "evalue": "invalid syntax (<ipython-input-21-529b2bc92f9c>, line 1)",
     "output_type": "error",
     "traceback": [
      "\u001b[1;36m  File \u001b[1;32m\"<ipython-input-21-529b2bc92f9c>\"\u001b[1;36m, line \u001b[1;32m1\u001b[0m\n\u001b[1;33m    >>>a = {x for x in 'abracadabra' if x not in 'abc'}\u001b[0m\n\u001b[1;37m     ^\u001b[0m\n\u001b[1;31mSyntaxError\u001b[0m\u001b[1;31m:\u001b[0m invalid syntax\n"
     ]
    }
   ],
   "source": [
    ">>>a = {x for x in 'abracadabra' if x not in 'abc'}\n",
    ">>> a\n",
    "{'r', 'd'}"
   ]
  },
  {
   "cell_type": "code",
   "execution_count": 22,
   "metadata": {},
   "outputs": [
    {
     "ename": "SyntaxError",
     "evalue": "invalid syntax (<ipython-input-22-83e1fc1181b4>, line 1)",
     "output_type": "error",
     "traceback": [
      "\u001b[1;36m  File \u001b[1;32m\"<ipython-input-22-83e1fc1181b4>\"\u001b[1;36m, line \u001b[1;32m1\u001b[0m\n\u001b[1;33m    >>>thisset = set((\"Google\", \"Runoob\", \"Taobao\"))\u001b[0m\n\u001b[1;37m     ^\u001b[0m\n\u001b[1;31mSyntaxError\u001b[0m\u001b[1;31m:\u001b[0m invalid syntax\n"
     ]
    }
   ],
   "source": [
    ">>>thisset = set((\"Google\", \"Runoob\", \"Taobao\"))\n",
    ">>> thisset.add(\"Facebook\")\n",
    ">>> print(thisset)\n",
    "{'Taobao', 'Facebook', 'Google', 'Runoob'}"
   ]
  },
  {
   "cell_type": "code",
   "execution_count": null,
   "metadata": {},
   "outputs": [],
   "source": [
    ">>>thisset = set((\"Google\", \"Runoob\", \"Taobao\"))\n",
    ">>> thisset.remove(\"Taobao\")\n",
    ">>> print(thisset)\n",
    "{'Google', 'Runoob'}\n",
    ">>> thisset.remove(\"Facebook\")   # 不存在会发生错误\n",
    "Traceback (most recent call last):\n",
    "  File \"<stdin>\", line 1, in <module>\n",
    "KeyError: 'Facebook'\n",
    ">>>"
   ]
  },
  {
   "cell_type": "code",
   "execution_count": 23,
   "metadata": {},
   "outputs": [
    {
     "ename": "SyntaxError",
     "evalue": "invalid syntax (<ipython-input-23-1ace57da4063>, line 1)",
     "output_type": "error",
     "traceback": [
      "\u001b[1;36m  File \u001b[1;32m\"<ipython-input-23-1ace57da4063>\"\u001b[1;36m, line \u001b[1;32m1\u001b[0m\n\u001b[1;33m    >>>thisset = set((\"Google\", \"Runoob\", \"Taobao\"))\u001b[0m\n\u001b[1;37m     ^\u001b[0m\n\u001b[1;31mSyntaxError\u001b[0m\u001b[1;31m:\u001b[0m invalid syntax\n"
     ]
    }
   ],
   "source": [
    ">>>thisset = set((\"Google\", \"Runoob\", \"Taobao\"))\n",
    ">>> thisset.update({1,3})\n",
    ">>> print(thisset)\n",
    "{1, 3, 'Google', 'Taobao', 'Runoob'}\n",
    ">>> thisset.update([1,4],[5,6])  \n",
    ">>> print(thisset)\n",
    "{1, 3, 4, 5, 6, 'Google', 'Taobao', 'Runoob'}\n",
    ">>>"
   ]
  },
  {
   "cell_type": "code",
   "execution_count": 24,
   "metadata": {},
   "outputs": [
    {
     "ename": "SyntaxError",
     "evalue": "invalid syntax (<ipython-input-24-7d46ceef3c7b>, line 1)",
     "output_type": "error",
     "traceback": [
      "\u001b[1;36m  File \u001b[1;32m\"<ipython-input-24-7d46ceef3c7b>\"\u001b[1;36m, line \u001b[1;32m1\u001b[0m\n\u001b[1;33m    >>>thisset = set((\"Google\", \"Runoob\", \"Taobao\"))\u001b[0m\n\u001b[1;37m     ^\u001b[0m\n\u001b[1;31mSyntaxError\u001b[0m\u001b[1;31m:\u001b[0m invalid syntax\n"
     ]
    }
   ],
   "source": [
    ">>>thisset = set((\"Google\", \"Runoob\", \"Taobao\"))\n",
    ">>> thisset.discard(\"Facebook\")  # 不存在不会发生错误\n",
    ">>> print(thisset)\n",
    "{'Taobao', 'Google', 'Runoob'}"
   ]
  },
  {
   "cell_type": "code",
   "execution_count": 25,
   "metadata": {},
   "outputs": [
    {
     "name": "stdout",
     "output_type": "stream",
     "text": [
      "1\n",
      "1\n",
      "2\n",
      "3\n",
      "5\n",
      "8\n"
     ]
    }
   ],
   "source": [
    "#!/usr/bin/python3\n",
    " \n",
    "# Fibonacci series: 斐波纳契数列\n",
    "# 两个元素的总和确定了下一个数\n",
    "a, b = 0, 1\n",
    "while b < 10:\n",
    "    print(b)\n",
    "    a, b = b, a+b"
   ]
  },
  {
   "cell_type": "code",
   "execution_count": 26,
   "metadata": {},
   "outputs": [
    {
     "name": "stdout",
     "output_type": "stream",
     "text": [
      "1,1,2,3,5,8,13,21,34,55,89,144,233,377,610,987,"
     ]
    }
   ],
   "source": [
    "#!/usr/bin/python3\n",
    " \n",
    "# Fibonacci series: 斐波纳契数列\n",
    "# 两个元素的总和确定了下一个数\n",
    "a, b = 0, 1\n",
    "while b < 1000:\n",
    "    print(b, end=',')\n",
    "    a, b = b, a+b"
   ]
  },
  {
   "cell_type": "code",
   "execution_count": 27,
   "metadata": {},
   "outputs": [
    {
     "name": "stdout",
     "output_type": "stream",
     "text": [
      "1 - if 表达式条件为 true\n",
      "100\n",
      "Good bye!\n"
     ]
    }
   ],
   "source": [
    "#!/usr/bin/python3\n",
    " \n",
    "var1 = 100\n",
    "if var1:\n",
    "    print (\"1 - if 表达式条件为 true\")\n",
    "    print (var1)\n",
    " \n",
    "var2 = 0\n",
    "if var2:\n",
    "    print (\"2 - if 表达式条件为 true\")\n",
    "    print (var2)\n",
    "print (\"Good bye!\")"
   ]
  },
  {
   "cell_type": "code",
   "execution_count": null,
   "metadata": {},
   "outputs": [],
   "source": [
    "#!/usr/bin/python3\n",
    " \n",
    "age = int(input(\"请输入你家狗狗的年龄: \"))\n",
    "print(\"\")\n",
    "if age <= 0:\n",
    "    print(\"你是在逗我吧!\")\n",
    "elif age == 1:\n",
    "    print(\"相当于 14 岁的人。\")\n",
    "elif age == 2:\n",
    "    print(\"相当于 22 岁的人。\")\n",
    "elif age > 2:\n",
    "    human = 22 + (age -2)*5\n",
    "    print(\"对应人类年龄: \", human)\n",
    " \n",
    "### 退出提示\n",
    "input(\"点击 enter 键退出\")"
   ]
  },
  {
   "cell_type": "code",
   "execution_count": null,
   "metadata": {},
   "outputs": [],
   "source": [
    "#!/usr/bin/python3 \n",
    " \n",
    "# 该实例演示了数字猜谜游戏\n",
    "number = 7\n",
    "guess = -1\n",
    "print(\"数字猜谜游戏!\")\n",
    "while guess != number:\n",
    "    guess = int(input(\"请输入你猜的数字：\"))\n",
    " \n",
    "    if guess == number:\n",
    "        print(\"恭喜，你猜对了！\")\n",
    "    elif guess < number:\n",
    "        print(\"猜的数字小了...\")\n",
    "    elif guess > number:\n",
    "        print(\"猜的数字大了...\")"
   ]
  },
  {
   "cell_type": "code",
   "execution_count": null,
   "metadata": {},
   "outputs": [],
   "source": [
    "#!/usr/bin/python3\n",
    " \n",
    "var = 1\n",
    "while var == 1 :  # 表达式永远为 true\n",
    "   num = int(input(\"输入一个数字  :\"))\n",
    "   print (\"你输入的数字是: \", num)\n",
    " \n",
    "print (\"Good bye!\")"
   ]
  },
  {
   "cell_type": "code",
   "execution_count": null,
   "metadata": {},
   "outputs": [],
   "source": [
    "#!/usr/bin/python3\n",
    " \n",
    "count = 0\n",
    "while count < 5:\n",
    "   print (count, \" 小于 5\")\n",
    "   count = count + 1\n",
    "else:\n",
    "   print (count, \" 大于或等于 5\")"
   ]
  },
  {
   "cell_type": "code",
   "execution_count": null,
   "metadata": {},
   "outputs": [],
   "source": [
    "#!/usr/bin/python\n",
    " \n",
    "flag = 1\n",
    " \n",
    "while (flag): print ('欢迎访问菜鸟教程!')\n",
    " \n",
    "print (\"Good bye!\")"
   ]
  },
  {
   "cell_type": "code",
   "execution_count": null,
   "metadata": {},
   "outputs": [],
   "source": [
    ">>> list=[1,2,3,4]\n",
    ">>> it = iter(list)    # 创建迭代器对象\n",
    ">>> print (next(it))   # 输出迭代器的下一个元素\n",
    "1\n",
    ">>> print (next(it))\n",
    "2\n",
    ">>> "
   ]
  },
  {
   "cell_type": "code",
   "execution_count": null,
   "metadata": {},
   "outputs": [],
   "source": [
    "#!/usr/bin/python3\n",
    " \n",
    "list=[1,2,3,4]\n",
    "it = iter(list)    # 创建迭代器对象\n",
    "for x in it:\n",
    "    print (x, end=\" \")"
   ]
  },
  {
   "cell_type": "code",
   "execution_count": null,
   "metadata": {},
   "outputs": [],
   "source": [
    "#!/usr/bin/python3\n",
    " \n",
    "import sys         # 引入 sys 模块\n",
    " \n",
    "list=[1,2,3,4]\n",
    "it = iter(list)    # 创建迭代器对象\n",
    " \n",
    "while True:\n",
    "    try:\n",
    "        print (next(it))\n",
    "    except StopIteration:\n",
    "        sys.exit()"
   ]
  },
  {
   "cell_type": "code",
   "execution_count": null,
   "metadata": {},
   "outputs": [],
   "source": [
    "class MyNumbers:\n",
    "  def __iter__(self):\n",
    "    self.a = 1\n",
    "    return self\n",
    " \n",
    "  def __next__(self):\n",
    "    x = self.a\n",
    "    self.a += 1\n",
    "    return x\n",
    " \n",
    "myclass = MyNumbers()\n",
    "myiter = iter(myclass)\n",
    " \n",
    "print(next(myiter))\n",
    "print(next(myiter))\n",
    "print(next(myiter))\n",
    "print(next(myiter))\n",
    "print(next(myiter))"
   ]
  }
 ],
 "metadata": {
  "kernelspec": {
   "display_name": "Python 3",
   "language": "python",
   "name": "python3"
  },
  "language_info": {
   "codemirror_mode": {
    "name": "ipython",
    "version": 3
   },
   "file_extension": ".py",
   "mimetype": "text/x-python",
   "name": "python",
   "nbconvert_exporter": "python",
   "pygments_lexer": "ipython3",
   "version": "3.7.3"
  }
 },
 "nbformat": 4,
 "nbformat_minor": 2
}
